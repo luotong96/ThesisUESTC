{
 "cells": [
  {
   "cell_type": "code",
   "execution_count": 1,
   "metadata": {},
   "outputs": [],
   "source": [
    "import numpy as np\n",
    "import networkx as nx\n",
    "import matplotlib.pyplot as plt\n",
    "import random\n",
    "import time\n",
    "import math\n",
    "from queue import PriorityQueue"
   ]
  },
  {
   "cell_type": "code",
   "execution_count": 12,
   "metadata": {},
   "outputs": [],
   "source": [
    "def givemedag(v,e,c):\n",
    "    if e < v-1:\n",
    "        print('边太少')\n",
    "        return None\n",
    "    #e大小要适量\n",
    "    D = nx.DiGraph()\n",
    "    leaves=[]\n",
    "    while(True):\n",
    "        nx.generators.directed.gn_graph(v-1,kernel = lambda x :x**c,create_using = D)\n",
    "        tmp = [x[0] for x in list(D.in_degree()) if x[1] == 0]\n",
    "        leafnum = len(tmp)\n",
    "        if D.number_of_edges() + leafnum <= e:\n",
    "            leaves = tmp.copy()\n",
    "            break\n",
    "    #nx.draw(D,with_labels=True)\n",
    "    \n",
    "    my_dict = nx.shortest_path_length(nx.reverse_view(D),source=0)\n",
    "    mylst = list(zip(my_dict.values(), my_dict.keys()))\n",
    "    #print(my_dict)\n",
    "    #print(mylst)\n",
    "    #print(leaves)\n",
    "    D.add_node(v-1)\n",
    "    for each in leaves:\n",
    "        fea = [x[1] for x in mylst if x[0]>my_dict[each]]\n",
    "        fea.append(v-1)\n",
    "        D.add_edge(random.choice(fea),each)\n",
    "    return D.reverse()"
   ]
  },
  {
   "cell_type": "code",
   "execution_count": 23,
   "metadata": {},
   "outputs": [],
   "source": [
    "def givemeagent(E, C,var):\n",
    "    agents = {}\n",
    "    for e in E:\n",
    "        ci = np.random.randint(1,C)\n",
    "        agents[e]=[]\n",
    "        for i in range(ci):\n",
    "            bi = -1\n",
    "            while bi < 0:\n",
    "                bi = np.random.normal(50,math.sqrt(var))\n",
    "            ti = -1\n",
    "            while ti <0:\n",
    "                ti = np.random.randint(1,100)\n",
    "            agents[e].append((bi,ti,e,i))\n",
    "    return agents"
   ]
  },
  {
   "cell_type": "code",
   "execution_count": 4,
   "metadata": {},
   "outputs": [],
   "source": [
    "def reweight(dag,agentinfo):\n",
    "    for e in list(dag.edges):\n",
    "        dag.edges[e[0],e[1]]['weight'] = agentinfo[e][0][1]"
   ]
  },
  {
   "cell_type": "code",
   "execution_count": 5,
   "metadata": {},
   "outputs": [],
   "source": [
    "def allocation2(dag,agentinfo,timelimit):\n",
    "    #basebid = {}\n",
    "    relativebid = [(agentinfo[e][i][0]-agentinfo[e][0][0],agentinfo[e][i][1],agentinfo[e][i][2],agentinfo[e][i][3])for e in list(dag.edges)for i in range(1,len(agentinfo[e]))]\n",
    "    #print('#')\n",
    "    #print(relativebid)\n",
    "    #print('#')\n",
    "    ansdict = {}\n",
    "    reweight(dag,agentinfo)\n",
    "    for e in list(dag.edges):\n",
    "        #dag.edges[e[0],e[1]]['weight'] = agentinfo[e][0][1]\n",
    "        ansdict[e] = 0\n",
    "    #print(relativebid)\n",
    "    #if nx.dag_longest_path_length(dag) > timelimit:\n",
    "    #    print('mission impossible')\n",
    "    #    return -1\n",
    "    vis = {}\n",
    "    relativebid.sort(key = lambda x:x[0])\n",
    "    while relativebid != []:\n",
    "        if len(vis) == dag.number_of_edges():\n",
    "            break\n",
    "        item = relativebid.pop()\n",
    "        #print('$')\n",
    "        #print(item)\n",
    "        if item[2] in vis:\n",
    "            continue\n",
    "        tmp = dag.edges[item[2][0],item[2][1]]['weight']\n",
    "        dag.edges[item[2][0],item[2][1]]['weight'] = item[1]\n",
    "        if nx.dag_longest_path_length(dag) > timelimit:\n",
    "            dag.edges[item[2][0],item[2][1]]['weight'] = tmp\n",
    "            continue\n",
    "        vis[item[2]] = True\n",
    "        #print(e)\n",
    "        #print(item[3])\n",
    "        ansdict[item[2]] = item[3]\n",
    "    return ansdict"
   ]
  },
  {
   "cell_type": "code",
   "execution_count": 6,
   "metadata": {},
   "outputs": [],
   "source": [
    "def init(dag,agentinfo):\n",
    "    for e in list(dag.edges):\n",
    "        agentinfo[e].sort(key=lambda x:x[0],reverse=True)\n",
    "        agentinfo[e].sort(key = lambda x:x[1]) \n",
    "        nowbid = agentinfo[e][0][0]\n",
    "        tmp = [(agentinfo[e][0][0],agentinfo[e][0][1],agentinfo[e][0][2],0)]\n",
    "        for i in range(1,len(agentinfo[e])):\n",
    "            if agentinfo[e][i][0] > nowbid:\n",
    "                nowbid = agentinfo[e][i][0]\n",
    "                lens = len(tmp)\n",
    "                tmp.append((agentinfo[e][i][0],agentinfo[e][i][1],agentinfo[e][i][2],lens))\n",
    "        agentinfo[e] = tmp"
   ]
  },
  {
   "cell_type": "code",
   "execution_count": 7,
   "metadata": {},
   "outputs": [],
   "source": [
    "def graphseq(dag,agentinfo,e,ind,relativebid,timelimit):\n",
    "    reweight(dag,agentinfo)\n",
    "    #cong tou qu \n",
    "    relativebid.sort(key = lambda x:x[0])\n",
    "    vis = {}\n",
    "    if ind > 0:\n",
    "        sign = False\n",
    "        addon = agentinfo[e][ind-1][0]-agentinfo[e][0][0]\n",
    "        \n",
    "        while relativebid != []:\n",
    "            item = relativebid.pop()\n",
    "            if item[2] in vis:\n",
    "                continue\n",
    "            if item[2] == e:\n",
    "                if item[0] <= addon:\n",
    "                    break\n",
    "                else:\n",
    "                    if item[3] == ind:\n",
    "                        sign=True\n",
    "                    continue\n",
    "            tmp = dag.edges[item[2][0],item[2][1]]['weight']\n",
    "            dag.edges[item[2][0],item[2][1]]['weight'] = item[1]\n",
    "            if nx.dag_longest_path_length(dag) > timelimit:\n",
    "                dag.edges[item[2][0],item[2][1]]['weight'] = tmp\n",
    "                continue\n",
    "            vis[item[2]] = True\n",
    "            if sign:\n",
    "                dag.edges[e[0],e[1]]['weight'] = agentinfo[e][ind][1]\n",
    "                if nx.dag_longest_path_length(dag) > timelimit:\n",
    "                    addon = max(addon,item[0])\n",
    "                    break\n",
    "                dag.edges[e[0],e[1]]['weight'] = agentinfo[e][0][1]\n",
    "        #print(e,1,addon+agentinfo[e][0][0])\n",
    "        return addon+agentinfo[e][0][0]\n",
    "    else:\n",
    "        if len(agentinfo[e]) == 1:\n",
    "            #print(e,0,0)\n",
    "            return 0\n",
    "        graphs=[dag.copy()]\n",
    "        bids=[0]\n",
    "        que = PriorityQueue()\n",
    "        while relativebid != []:\n",
    "            item = relativebid.pop()\n",
    "            if item[0] < agentinfo[e][1][0]:\n",
    "                break\n",
    "            if item[2] in vis:\n",
    "                continue\n",
    "            if item[2] == e:\n",
    "                pre = len(bids)-1\n",
    "                if pre > 0:\n",
    "                    que.put((bids[pre]-item[0],pre,item[3]))\n",
    "                continue\n",
    "            tmp = dag.edges[item[2][0],item[2][1]]['weight']\n",
    "            dag.edges[item[2][0],item[2][1]]['weight'] = item[1]\n",
    "            if nx.dag_longest_path_length(dag) > timelimit:\n",
    "                dag.edges[item[2][0],item[2][1]]['weight'] = tmp\n",
    "                continue\n",
    "            vis[item[2]] = True\n",
    "            graphs.append(dag.copy())\n",
    "            bids.append(item[0])\n",
    "        acc = 0 #crucial\n",
    "        addons = -1\n",
    "        while not que.empty():\n",
    "            front = que.get()\n",
    "            if front[1] >= 1:\n",
    "                delta = bids[front[1]]-(agentinfo[e][front[2]][0] + acc)\n",
    "                acc = acc + delta\n",
    "                if acc >= agentinfo[e][0][0]:\n",
    "                    break\n",
    "                newdist = max(0,bids[front[1]-1]-bids[front[1]])+ delta\n",
    "                que.put((newdist,front[1]-1,front[2]))\n",
    "            prepos = front[1]\n",
    "            myind = front[2]\n",
    "            graphs[prepos].edges[e[0],e[1]]['weight'] = agentinfo[e][myind][1]\n",
    "            if nx.dag_longest_path_length(graphs[prepos]) <= timelimit: \n",
    "                addons = bids[prepos+1]-agentinfo[e][myind][0]\n",
    "                break\n",
    "            graphs[prepos].edges[e[0],e[1]]['weight'] = agentinfo[e][0][1]\n",
    "        if addons == -1:\n",
    "            #print(e,0,0)\n",
    "            return 0\n",
    "        #print(e,0,agentinfo[e][0][0]-addons)\n",
    "        return agentinfo[e][0][0]-addons"
   ]
  },
  {
   "cell_type": "code",
   "execution_count": 8,
   "metadata": {},
   "outputs": [],
   "source": [
    "def payment(dag,agentinfo,timelimit):\n",
    "    \n",
    "    relativebid = [(agentinfo[e][i][0]-agentinfo[e][0][0],agentinfo[e][i][1],agentinfo[e][i][2],agentinfo[e][i][3])for e in list(dag.edges)for i in range(1,len(agentinfo[e]))]\n",
    "    allo = allocation2(dag,agentinfo,timelimit)\n",
    "    #print(allo)\n",
    "    ans = 0.0\n",
    "    for e in list(dag.edges):\n",
    "        ans = ans + graphseq(dag,agentinfo,e,allo[e],relativebid,timelimit)\n",
    "    #print(ans)\n",
    "    return ans"
   ]
  },
  {
   "cell_type": "code",
   "execution_count": 21,
   "metadata": {},
   "outputs": [],
   "source": [
    "def checkpay(n,C,kernel,var):\n",
    "    #n=200\n",
    "    #C=3\n",
    "    aoe = givemedag(n,1000000000,kernel)\n",
    "    assert nx.is_directed_acyclic_graph(aoe)\n",
    "    #print(aoe.number_of_edges())\n",
    "    #nx.draw(aoe,with_labels=True)\n",
    "    es = list(aoe.edges)\n",
    "    agents = givemeagent(es,C,var)\n",
    "    init(aoe,agents)\n",
    "    #print(agents)\n",
    "    ms = {}\n",
    "    for e in es:\n",
    "        ms[e] = (agents[e][0][1],agents[e][len(agents[e])-1][1])\n",
    "    for e in es:\n",
    "        aoe.edges[e[0],e[1]]['weight'] = ms[e][0]\n",
    "    a = nx.dag_longest_path_length(aoe)\n",
    "\n",
    "    for e in es:\n",
    "        aoe.edges[e[0],e[1]]['weight'] = ms[e][1]\n",
    "    b = nx.dag_longest_path_length(aoe)\n",
    "    #print(a,b)\n",
    "    tl = np.random.randint(a,b+1)\n",
    "    #payment(aoe,agents,tl)\n",
    "    return payment(aoe,agents,tl)\n"
   ]
  },
  {
   "cell_type": "code",
   "execution_count": 28,
   "metadata": {},
   "outputs": [
    {
     "name": "stdout",
     "output_type": "stream",
     "text": [
      "1\n",
      "2\n",
      "3\n",
      "4\n",
      "5\n",
      "6\n",
      "7\n",
      "8\n",
      "9\n",
      "10\n",
      "11\n",
      "12\n",
      "13\n",
      "14\n",
      "15\n",
      "16\n",
      "17\n",
      "18\n",
      "19\n",
      "20\n",
      "21\n",
      "22\n",
      "23\n",
      "24\n",
      "25\n",
      "26\n",
      "27\n",
      "28\n",
      "29\n",
      "30\n",
      "31\n",
      "32\n",
      "33\n",
      "34\n",
      "35\n",
      "36\n",
      "37\n",
      "38\n",
      "39\n",
      "40\n",
      "41\n",
      "42\n",
      "43\n",
      "44\n",
      "45\n",
      "46\n",
      "47\n",
      "48\n",
      "49\n",
      "50\n",
      "51\n",
      "52\n",
      "53\n",
      "54\n",
      "55\n",
      "56\n",
      "57\n",
      "58\n",
      "59\n",
      "60\n",
      "61\n",
      "62\n",
      "63\n",
      "64\n",
      "65\n",
      "66\n",
      "67\n",
      "68\n",
      "69\n",
      "70\n",
      "71\n",
      "72\n",
      "73\n",
      "74\n",
      "75\n",
      "76\n",
      "77\n",
      "78\n",
      "79\n",
      "80\n",
      "81\n",
      "82\n",
      "83\n",
      "84\n",
      "85\n",
      "86\n",
      "87\n",
      "88\n",
      "89\n",
      "90\n",
      "91\n",
      "92\n",
      "93\n",
      "94\n",
      "95\n",
      "96\n",
      "97\n",
      "98\n",
      "99\n"
     ]
    },
    {
     "data": {
      "text/plain": [
       "[<matplotlib.lines.Line2D at 0x1dba93921c0>]"
      ]
     },
     "execution_count": 28,
     "metadata": {},
     "output_type": "execute_result"
    },
    {
     "data": {
      "image/png": "[encoded data removed]",
      "text/plain": [
       "<Figure size 432x288 with 1 Axes>"
      ]
     },
     "metadata": {
      "needs_background": "light"
     },
     "output_type": "display_data"
    }
   ],
   "source": [
    "y = []\n",
    "x = range(1,100)\n",
    "for u in x:\n",
    "    print(u)\n",
    "    y.append(checkpay(200,100,1,u))\n",
    "#y=[checkpay(u,100)for u in x]\n",
    "\n",
    "plt.plot(x,y)"
   ]
  },
  {
   "cell_type": "code",
   "execution_count": 34,
   "metadata": {},
   "outputs": [
    {
     "data": {
      "text/plain": [
       "[<matplotlib.lines.Line2D at 0x1dbaa5ba0a0>]"
      ]
     },
     "execution_count": 34,
     "metadata": {},
     "output_type": "execute_result"
    },
    {
     "data": {
      "image/png": "[encoded data removed]",
      "text/plain": [
       "<Figure size 432x288 with 1 Axes>"
      ]
     },
     "metadata": {
      "needs_background": "light"
     },
     "output_type": "display_data"
    }
   ],
   "source": [
    "x=[25,75,125,175,200]\n",
    "y=[1478.312,5037.261,8599.328,11341.959,13031.76]\n",
    "y2=[1632.41,5302.871,9032.998,11707.221,13076.298]\n",
    "plt.plot(x,y)\n",
    "plt.plot(x,y2)"
   ]
  },
  {
   "cell_type": "code",
   "execution_count": 36,
   "metadata": {},
   "outputs": [
    {
     "data": {
      "image/png": "[encoded data removed]",
      "text/plain": [
       "<Figure size 432x288 with 1 Axes>"
      ]
     },
     "metadata": {
      "needs_background": "light"
     },
     "output_type": "display_data"
    }
   ],
   "source": [
    "\n",
    "plt.xlabel('$|V|$')\n",
    "plt.ylabel('The expectation revenue')\n",
    "\n",
    "#plt.xlabel('The variance of bids distribution')\n",
    "#plt.ylabel('Expectation Revenue')\n",
    "\n",
    "plt.plot(x,y,label=\"SW Maximization\")\n",
    "plt.plot(x,y2,label=\"optimal auction\")\n",
    "plt.legend()\n",
    "plt.savefig('expswandoptimal.pdf')\n",
    "plt.show()"
   ]
  },
  {
   "cell_type": "code",
   "execution_count": null,
   "metadata": {},
   "outputs": [],
   "source": []
  }
 ],
 "metadata": {
  "kernelspec": {
   "display_name": "Python 3",
   "language": "python",
   "name": "python3"
  },
  "language_info": {
   "codemirror_mode": {
    "name": "ipython",
    "version": 3
   },
   "file_extension": ".py",
   "mimetype": "text/x-python",
   "name": "python",
   "nbconvert_exporter": "python",
   "pygments_lexer": "ipython3",
   "version": "3.8.2"
  }
 },
 "nbformat": 4,
 "nbformat_minor": 4
}
