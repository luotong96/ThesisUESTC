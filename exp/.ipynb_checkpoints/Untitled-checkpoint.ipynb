{
 "cells": [
  {
   "cell_type": "code",
   "execution_count": 1,
   "metadata": {
    "scrolled": true
   },
   "outputs": [],
   "source": [
    "import numpy as np"
   ]
  },
  {
   "cell_type": "code",
   "execution_count": 2,
   "metadata": {},
   "outputs": [],
   "source": [
    "import networkx as nx"
   ]
  },
  {
   "cell_type": "code",
   "execution_count": 3,
   "metadata": {},
   "outputs": [],
   "source": [
    "import matplotlib.pyplot as plt\n",
    "import random"
   ]
  },
  {
   "cell_type": "code",
   "execution_count": null,
   "metadata": {},
   "outputs": [],
   "source": [
    "#plt.subplot()"
   ]
  },
  {
   "cell_type": "code",
   "execution_count": 4,
   "metadata": {},
   "outputs": [],
   "source": [
    "def givemeinfo(v,e,c):\n",
    "    if e < v-1:\n",
    "        print('边太少')\n",
    "        return None\n",
    "    #e大小要适量\n",
    "    D = nx.DiGraph()\n",
    "    leaves=[]\n",
    "    while(True):\n",
    "        nx.generators.directed.gn_graph(v-1,create_using = D)\n",
    "        tmp = [x[0] for x in list(D.in_degree()) if x[1] == 0]\n",
    "        leafnum = len(tmp)\n",
    "        if D.number_of_edges() + leafnum <= e:\n",
    "            leaves = tmp.copy()\n",
    "            break\n",
    "    #nx.draw(D,with_labels=True)\n",
    "    \n",
    "    my_dict = nx.shortest_path_length(nx.reverse_view(D),source=0)\n",
    "    mylst = list(zip(my_dict.values(), my_dict.keys()))\n",
    "    #print(my_dict)\n",
    "    #print(mylst)\n",
    "    #print(leaves)\n",
    "    D.add_node(v-1)\n",
    "    for each in leaves:\n",
    "        fea = [x[1] for x in mylst if x[0]>my_dict[each]]\n",
    "        fea.append(v-1)\n",
    "        D.add_edge(random.choice(fea),each)\n",
    "    return D.reverse()"
   ]
  },
  {
   "cell_type": "code",
   "execution_count": 41,
   "metadata": {},
   "outputs": [
    {
     "name": "stdout",
     "output_type": "stream",
     "text": [
      "True\n",
      "[(0, 1), (0, 2), (0, 3), (0, 6), (1, 9), (2, 5), (3, 4), (4, 7), (5, 7), (6, 9), (7, 8), (8, 9)]\n"
     ]
    },
    {
     "data": {
      "image/png": "[encoded data removed]",
      "text/plain": [
       "<Figure size 432x288 with 1 Axes>"
      ]
     },
     "metadata": {},
     "output_type": "display_data"
    }
   ],
   "source": [
    "aoe = givemeinfo(10,20,3)\n",
    "print(nx.is_directed_acyclic_graph(aoe))\n",
    "#nx.info(ts)--=0\n",
    "list(aoe.nodes)\n",
    "print(list(aoe.edges))\n",
    "nx.draw(aoe,with_labels=True)"
   ]
  },
  {
   "cell_type": "code",
   "execution_count": 10,
   "metadata": {},
   "outputs": [],
   "source": [
    "def allocation(dag,agentinfo,timelimit):\n",
    "    basebid = {}\n",
    "    relativebid = []\n",
    "    welfare = 0.0\n",
    "    for e in list(dag.edges):\n",
    "        agentinfo[e].sort(key = lambda x:x[1])\n",
    "        basebid[e] = agentinfo[e][0][0]\n",
    "        filt = [(agentinfo[e][i][0]-basebid[e],agentinfo[e][i][1],agentinfo[e][i][2],agentinfo[e][i][3]) for i in range(len(agentinfo[e]))if i > 0 and agentinfo[e][i][0] > agentinfo[e][i-1][0]]\n",
    "        relativebid.extend(filt)\n",
    "        dag.edges[e[0],e[1]]['weight'] = agentinfo[e][0][1]\n",
    "        welfare = welfare + agentinfo[e][0][1]\n",
    "    if nx.dag_longest_path_length(dag) > timelimit:\n",
    "        print('mission impossible')\n",
    "        return -1\n",
    "    vis = {}\n",
    "    relativebid.sort(key = lambda x:x[0])\n",
    "    while relativebid != []:\n",
    "        if len(vis) == dag.number_of_edges():\n",
    "            break\n",
    "        item = relativebid.pop()\n",
    "        if item[2] in vis:\n",
    "            continue\n",
    "        tmp = dag.edges[item[2][0],item[2][1]]['weight']\n",
    "        dag.edges[item[2][0],item[2][1]]['weight'] = item[1]\n",
    "        if nx.dag_longest_path_length(dag) > timelimit:\n",
    "            dag.edges[item[2][0],item[2][1]]['weight'] = tmp\n",
    "            continue\n",
    "        welfare = welfare + item[0]\n",
    "        vis[item[2]] = True\n",
    "    return welfare"
   ]
  },
  {
   "cell_type": "code",
   "execution_count": 51,
   "metadata": {},
   "outputs": [],
   "source": [
    "def dfs(dag,ind,agentinfo,timelimit,welfare):\n",
    "    if ind == dag.number_of_edges():\n",
    "        if nx.dag_longest_path_length(dag) > timelimit:\n",
    "            return -1\n",
    "        return welfare\n",
    "    te=list(dag.edges)[ind]\n",
    "    ms = 0.0\n",
    "    for x in agentinfo[te]:\n",
    "        dag.edges[te[0],te[1]]['weight'] = x[1]\n",
    "        ms = max(ms,dfs(dag,ind+1,agentinfo,timelimit,welfare+x[0]))\n",
    "    return ms"
   ]
  },
  {
   "cell_type": "code",
   "execution_count": 52,
   "metadata": {},
   "outputs": [],
   "source": [
    "def brute(dag,agent,timelimit):\n",
    "    agentinfo = agent.copy()\n",
    "    for e in list(dag.edges):\n",
    "        agentinfo[e].sort(key = lambda x:x[1]) \n",
    "        filt = [agentinfo[e][i] for i in range(len(agentinfo[e]))if i == 0 or agentinfo[e][i][0] > agentinfo[e][i-1][0]]\n",
    "        agentinfo[e] = filt\n",
    "    return dfs(dag,0,agentinfo,timelimit,0)"
   ]
  },
  {
   "cell_type": "code",
   "execution_count": 63,
   "metadata": {},
   "outputs": [
    {
     "name": "stdout",
     "output_type": "stream",
     "text": [
      "{(0, 1): [(50.539141836968255, 61, (0, 1), 0), (34.840079466986154, 71, (0, 1), 1), (29.533663072442202, 94, (0, 1), 2)], (0, 2): [(48.117458179381096, 84, (0, 2), 0), (64.37340875804382, 51, (0, 2), 1)], (0, 3): [(34.957020155060746, 52, (0, 3), 0), (64.40115684746537, 57, (0, 3), 1)], (0, 6): [(64.29468369820944, 76, (0, 6), 0)], (1, 9): [(42.28921532637304, 87, (1, 9), 0)], (2, 5): [(27.203546193679806, 21, (2, 5), 0), (51.72376246000443, 50, (2, 5), 1)], (3, 4): [(32.20432536987204, 61, (3, 4), 0)], (4, 7): [(39.276529378280465, 97, (4, 7), 0)], (5, 7): [(27.292877601962516, 70, (5, 7), 0), (43.9590137832877, 28, (5, 7), 1), (41.5508634798973, 8, (5, 7), 2)], (6, 9): [(53.60610304890886, 59, (6, 9), 0)], (7, 8): [(59.96670491346267, 99, (7, 8), 0), (60.59801973028971, 15, (7, 8), 1), (51.03534938632418, 65, (7, 8), 2)], (8, 9): [(53.32148903610446, 58, (8, 9), 0), (58.78752539246283, 62, (8, 9), 1)]}\n"
     ]
    }
   ],
   "source": [
    "E = list(aoe.edges)\n",
    "C = 4\n",
    "agents={}\n",
    "for e in E:\n",
    "    ci = np.random.randint(1,C)\n",
    "    agents[e]=[]\n",
    "    for i in range(ci):\n",
    "        bi = -1\n",
    "        while bi <0:\n",
    "            bi = 10*np.random.randn()+50\n",
    "        ti = -1\n",
    "        while ti <0:\n",
    "            ti = np.random.randint(1,100)\n",
    "        agents[e].append((bi,ti,e,i))\n",
    "print(agents)"
   ]
  },
  {
   "cell_type": "code",
   "execution_count": 64,
   "metadata": {},
   "outputs": [
    {
     "data": {
      "text/plain": [
       "707.2072248016509"
      ]
     },
     "execution_count": 64,
     "metadata": {},
     "output_type": "execute_result"
    }
   ],
   "source": [
    "allocation(aoe,agents,100000)"
   ]
  },
  {
   "cell_type": "code",
   "execution_count": 66,
   "metadata": {},
   "outputs": [
    {
     "data": {
      "text/plain": [
       "626.052885630166"
      ]
     },
     "execution_count": 66,
     "metadata": {},
     "output_type": "execute_result"
    }
   ],
   "source": [
    "brute(aoe,agents,100000)"
   ]
  },
  {
   "cell_type": "code",
   "execution_count": null,
   "metadata": {},
   "outputs": [],
   "source": [
    "fig, ax = plt.subplots(1, 1)\n",
    "from scipy.stats import norm\n",
    "x = np.linspace(norm.ppf(0.001),\n",
    "                norm.ppf(0.999), 100)\n",
    "ax.plot(x, norm.pdf(x)/(1-norm.cdf(x)),\n",
    "       'r-', lw=5, alpha=0.6, label='norm pdf')"
   ]
  },
  {
   "cell_type": "code",
   "execution_count": null,
   "metadata": {},
   "outputs": [],
   "source": []
  },
  {
   "cell_type": "code",
   "execution_count": null,
   "metadata": {},
   "outputs": [],
   "source": []
  },
  {
   "cell_type": "code",
   "execution_count": null,
   "metadata": {},
   "outputs": [],
   "source": []
  }
 ],
 "metadata": {
  "kernelspec": {
   "display_name": "Python 3",
   "language": "python",
   "name": "python3"
  },
  "language_info": {
   "codemirror_mode": {
    "name": "ipython",
    "version": 3
   },
   "file_extension": ".py",
   "mimetype": "text/x-python",
   "name": "python",
   "nbconvert_exporter": "python",
   "pygments_lexer": "ipython3",
   "version": "3.8.2"
  }
 },
 "nbformat": 4,
 "nbformat_minor": 4
}
