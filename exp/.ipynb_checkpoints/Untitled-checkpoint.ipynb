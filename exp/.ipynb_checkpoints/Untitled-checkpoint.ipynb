{
 "cells": [
  {
   "cell_type": "code",
   "execution_count": null,
   "metadata": {
    "scrolled": true
   },
   "outputs": [],
   "source": [
    "import numpy as np"
   ]
  },
  {
   "cell_type": "code",
   "execution_count": null,
   "metadata": {},
   "outputs": [],
   "source": [
    "import networkx as nx"
   ]
  },
  {
   "cell_type": "code",
   "execution_count": null,
   "metadata": {},
   "outputs": [],
   "source": [
    "import matplotlib.pyplot as plt\n",
    "import random\n",
    "import time\n",
    "import math\n",
    "from queue import PriorityQueue"
   ]
  },
  {
   "cell_type": "code",
   "execution_count": null,
   "metadata": {},
   "outputs": [],
   "source": [
    "#plt.subplot()"
   ]
  },
  {
   "cell_type": "code",
   "execution_count": null,
   "metadata": {},
   "outputs": [],
   "source": [
    "def givemedag(v,e,c):\n",
    "    if e < v-1:\n",
    "        print('边太少')\n",
    "        return None\n",
    "    #e大小要适量\n",
    "    D = nx.DiGraph()\n",
    "    leaves=[]\n",
    "    while(True):\n",
    "        nx.generators.directed.gn_graph(v-1,kernel = lambda x :x,create_using = D)\n",
    "        tmp = [x[0] for x in list(D.in_degree()) if x[1] == 0]\n",
    "        leafnum = len(tmp)\n",
    "        if D.number_of_edges() + leafnum <= e:\n",
    "            leaves = tmp.copy()\n",
    "            break\n",
    "    #nx.draw(D,with_labels=True)\n",
    "    \n",
    "    my_dict = nx.shortest_path_length(nx.reverse_view(D),source=0)\n",
    "    mylst = list(zip(my_dict.values(), my_dict.keys()))\n",
    "    #print(my_dict)\n",
    "    #print(mylst)\n",
    "    #print(leaves)\n",
    "    D.add_node(v-1)\n",
    "    for each in leaves:\n",
    "        fea = [x[1] for x in mylst if x[0]>my_dict[each]]\n",
    "        fea.append(v-1)\n",
    "        D.add_edge(random.choice(fea),each)\n",
    "    return D.reverse()"
   ]
  },
  {
   "cell_type": "code",
   "execution_count": null,
   "metadata": {},
   "outputs": [],
   "source": [
    "def allocation(dag,agentinfo,timelimit):\n",
    "    basebid = {}\n",
    "    relativebid = []\n",
    "    welfare = 0.0\n",
    "    for e in list(dag.edges):\n",
    "        agentinfo[e].sort(key = lambda x:x[1])\n",
    "        basebid[e] = agentinfo[e][0][0]\n",
    "        nowbid = basebid[e]\n",
    "        for i in range(len(agentinfo[e])):\n",
    "            if i > 0 and agentinfo[e][i][0] > nowbid:\n",
    "                nowbid = agentinfo[e][i][0]\n",
    "                relativebid.append((agentinfo[e][i][0]-basebid[e],agentinfo[e][i][1],agentinfo[e][i][2],agentinfo[e][i][3]))\n",
    "        dag.edges[e[0],e[1]]['weight'] = agentinfo[e][0][1]\n",
    "        welfare = welfare + agentinfo[e][0][0]\n",
    "    #print(relativebid)\n",
    "    #if nx.dag_longest_path_length(dag) > timelimit:\n",
    "    #    print('mission impossible')\n",
    "    #    return -1\n",
    "    vis = {}\n",
    "    relativebid.sort(key = lambda x:x[0])\n",
    "    while relativebid != []:\n",
    "        if len(vis) == dag.number_of_edges():\n",
    "            break\n",
    "        item = relativebid.pop()\n",
    "        if item[2] in vis:\n",
    "            continue\n",
    "        tmp = dag.edges[item[2][0],item[2][1]]['weight']\n",
    "        dag.edges[item[2][0],item[2][1]]['weight'] = item[1]\n",
    "        if nx.dag_longest_path_length(dag) > timelimit:\n",
    "            dag.edges[item[2][0],item[2][1]]['weight'] = tmp\n",
    "            continue\n",
    "        welfare = welfare + item[0]\n",
    "        vis[item[2]] = True\n",
    "    return welfare"
   ]
  },
  {
   "cell_type": "code",
   "execution_count": null,
   "metadata": {},
   "outputs": [],
   "source": [
    "def dfs(dag,ind,agentinfo,timelimit,welfare):\n",
    "    if ind == dag.number_of_edges():\n",
    "        if nx.dag_longest_path_length(dag) > timelimit:\n",
    "            return -1\n",
    "        return welfare\n",
    "    te=list(dag.edges)[ind]\n",
    "    ms = 0.0\n",
    "    for x in agentinfo[te]:\n",
    "        dag.edges[te[0],te[1]]['weight'] = x[1]\n",
    "        ms = max(ms,dfs(dag,ind+1,agentinfo,timelimit,welfare+x[0]))\n",
    "    return ms"
   ]
  },
  {
   "cell_type": "code",
   "execution_count": null,
   "metadata": {},
   "outputs": [],
   "source": [
    "def brute(dag,agent,timelimit):\n",
    "    agentinfo = agent.copy()\n",
    "    for e in list(dag.edges):\n",
    "        agentinfo[e].sort(key = lambda x:x[1]) \n",
    "        filt = [agentinfo[e][i] for i in range(len(agentinfo[e]))if i == 0 or agentinfo[e][i][0] > agentinfo[e][i-1][0]]\n",
    "        agentinfo[e] = filt\n",
    "    return dfs(dag,0,agentinfo,timelimit,0)"
   ]
  },
  {
   "cell_type": "code",
   "execution_count": null,
   "metadata": {},
   "outputs": [],
   "source": [
    "def givemeagent(E, C):\n",
    "    agents = {}\n",
    "    for e in E:\n",
    "        ci = np.random.randint(1,C)\n",
    "        agents[e]=[]\n",
    "        for i in range(ci):\n",
    "            bi = -1\n",
    "            while bi < 0:\n",
    "                bi = 1*np.random.randn()+50\n",
    "            ti = -1\n",
    "            while ti <0:\n",
    "                ti = np.random.randint(1,100)\n",
    "            agents[e].append((bi,ti,e,i))\n",
    "    return agents"
   ]
  },
  {
   "cell_type": "code",
   "execution_count": null,
   "metadata": {},
   "outputs": [],
   "source": [
    "def check(n,C):\n",
    "    aoe = givemedag(n,1000000000,3)\n",
    "    assert nx.is_directed_acyclic_graph(aoe)\n",
    "    #print(aoe.number_of_edges())\n",
    "    #nx.draw(aoe,with_labels=True)\n",
    "\n",
    "    es = list(aoe.edges)\n",
    "    agents = givemeagent(es,C)\n",
    "    ms = {}\n",
    "    for e in es:\n",
    "        agents[e].sort(key = lambda x:x[1])\n",
    "        nowbid = agents[e][0][0]\n",
    "        mis = agents[e][0][1]\n",
    "        mas = agents[e][0][1]\n",
    "        for i in range(len(agents[e])):\n",
    "            if i > 0 and agents[e][i][0] > nowbid:\n",
    "                nowbid = agents[e][i][0]\n",
    "                mas = agents[e][i][1]\n",
    "        ms[e] = (mis,mas)\n",
    "    for e in es:\n",
    "        aoe.edges[e[0],e[1]]['weight'] = ms[e][0]\n",
    "    a = nx.dag_longest_path_length(aoe)\n",
    "\n",
    "    for e in es:\n",
    "        aoe.edges[e[0],e[1]]['weight'] = ms[e][1]\n",
    "    b = nx.dag_longest_path_length(aoe)\n",
    "\n",
    "    tl = np.random.randint(a,b+1)\n",
    "    \n",
    "    t0 = time.perf_counter()\n",
    "    sf = allocation(aoe,agents,tl),\n",
    "    \n",
    "    return sf,time.perf_counter()-t0\n",
    "    #return allocation(aoe,agents,tl),brute(aoe,agents,tl)"
   ]
  },
  {
   "cell_type": "code",
   "execution_count": null,
   "metadata": {},
   "outputs": [],
   "source": [
    "a,b = check(20,3)\n",
    "print(a,b)"
   ]
  },
  {
   "cell_type": "code",
   "execution_count": null,
   "metadata": {
    "scrolled": true
   },
   "outputs": [],
   "source": [
    "lst = []\n",
    "a = []\n",
    "for x in range(10,10**3):\n",
    "    print(x)\n",
    "    a.append(x)\n",
    "    c,d = check(x,10)\n",
    "    lst.append(d)\n",
    "plt.plot(a,lst)"
   ]
  },
  {
   "cell_type": "code",
   "execution_count": null,
   "metadata": {},
   "outputs": [],
   "source": [
    "plt.xlabel('$|V|$')\n",
    "plt.ylabel('execution time in seconds')\n",
    "plt.plot(a,lst)\n",
    "plt.savefig('exetime.pdf')\n",
    "plt.show()"
   ]
  },
  {
   "cell_type": "code",
   "execution_count": null,
   "metadata": {},
   "outputs": [],
   "source": [
    "import pandas as pd"
   ]
  },
  {
   "cell_type": "code",
   "execution_count": null,
   "metadata": {},
   "outputs": [],
   "source": [
    "df = pd.DataFrame({'x':a,'y':lst})\n",
    "df.to_csv('exetime10-1000.csv',index=False)"
   ]
  },
  {
   "cell_type": "code",
   "execution_count": null,
   "metadata": {
    "scrolled": true
   },
   "outputs": [],
   "source": [
    "\n",
    "testn=[10,15,20]\n",
    "for x in testn:\n",
    "    ratiolist = []\n",
    "    cnt = 0\n",
    "    for i in range(1000):\n",
    "        print(i)\n",
    "        a,b = check(x,3)\n",
    "        if math.fabs(a-b) < 1e-8:\n",
    "            cnt=cnt+1\n",
    "        ratiolist.append(a/b)\n",
    "        \n",
    "        #print(\"a/b=%lf\"%(a/b))\n",
    "    print(cnt,np.median(ratiolist),np.mean(ratiolist),np.std(ratiolist,ddof=1))\n"
   ]
  },
  {
   "cell_type": "code",
   "execution_count": null,
   "metadata": {},
   "outputs": [],
   "source": [
    "998 1.0 0.9999980277131707 5.478483267317938e-05\n",
    "\n",
    "994 1.0 0.999998769926064 1.8107295551290027e-05\n",
    "992 1.0 0.9999979986019756 2.9445272088786218e-05\n"
   ]
  },
  {
   "cell_type": "code",
   "execution_count": null,
   "metadata": {},
   "outputs": [],
   "source": [
    "print(cnt,np.median(ratiolist),np.mean(ratiolist),np.std(ratiolist,ddof=1))"
   ]
  },
  {
   "cell_type": "code",
   "execution_count": null,
   "metadata": {
    "scrolled": false
   },
   "outputs": [],
   "source": [
    "len(ratiolist)"
   ]
  },
  {
   "cell_type": "code",
   "execution_count": null,
   "metadata": {},
   "outputs": [],
   "source": []
  },
  {
   "cell_type": "code",
   "execution_count": null,
   "metadata": {},
   "outputs": [],
   "source": [
    "x = range(10,10**3)"
   ]
  },
  {
   "cell_type": "code",
   "execution_count": null,
   "metadata": {},
   "outputs": [],
   "source": [
    "y1 = [i*(5*np.random.randn()+50)for i in x]"
   ]
  },
  {
   "cell_type": "code",
   "execution_count": null,
   "metadata": {
    "scrolled": true
   },
   "outputs": [],
   "source": [
    "y2 = [i*(5*np.random.randn()+60)for i in x]"
   ]
  },
  {
   "cell_type": "code",
   "execution_count": null,
   "metadata": {},
   "outputs": [],
   "source": [
    "plt.plot(x,y1,label='SW maximization')\n",
    "plt.plot(x,y2,label='optimal auction')\n",
    "plt.legend(loc=\"upper left\")"
   ]
  },
  {
   "cell_type": "code",
   "execution_count": null,
   "metadata": {},
   "outputs": [],
   "source": [
    "plt.show()"
   ]
  },
  {
   "cell_type": "code",
   "execution_count": 43,
   "metadata": {},
   "outputs": [],
   "source": [
    "def reweight(dag,agentinfo):\n",
    "    for e in list(dag.edges):\n",
    "        dag.edges[e[0],e[1]]['weight'] = agentinfo[e][0][1]"
   ]
  },
  {
   "cell_type": "code",
   "execution_count": 44,
   "metadata": {},
   "outputs": [],
   "source": [
    "def allocation2(dag,agentinfo,timelimit):\n",
    "    #basebid = {}\n",
    "    relativebid = [(agentinfo[e][i][0]-agentinfo[e][0][0],agentinfo[e][i][1],agentinfo[e][i][2],agentinfo[e][i][3])for e in list(dag.edges)for i in range(1,len(agentinfo[e]))]\n",
    "    #print('#')\n",
    "    #print(relativebid)\n",
    "    #print('#')\n",
    "    ansdict = {}\n",
    "    reweight(dag,agentinfo)\n",
    "    for e in list(dag.edges):\n",
    "        #dag.edges[e[0],e[1]]['weight'] = agentinfo[e][0][1]\n",
    "        ansdict[e] = 0\n",
    "    #print(relativebid)\n",
    "    #if nx.dag_longest_path_length(dag) > timelimit:\n",
    "    #    print('mission impossible')\n",
    "    #    return -1\n",
    "    vis = {}\n",
    "    relativebid.sort(key = lambda x:x[0])\n",
    "    while relativebid != []:\n",
    "        if len(vis) == dag.number_of_edges():\n",
    "            break\n",
    "        item = relativebid.pop()\n",
    "        #print('$')\n",
    "        #print(item)\n",
    "        if item[2] in vis:\n",
    "            continue\n",
    "        tmp = dag.edges[item[2][0],item[2][1]]['weight']\n",
    "        dag.edges[item[2][0],item[2][1]]['weight'] = item[1]\n",
    "        if nx.dag_longest_path_length(dag) > timelimit:\n",
    "            dag.edges[item[2][0],item[2][1]]['weight'] = tmp\n",
    "            continue\n",
    "        vis[item[2]] = True\n",
    "        #print(e)\n",
    "        #print(item[3])\n",
    "        ansdict[item[2]] = item[3]\n",
    "    return ansdict"
   ]
  },
  {
   "cell_type": "code",
   "execution_count": 45,
   "metadata": {},
   "outputs": [],
   "source": [
    "def init(dag,agentinfo):\n",
    "    for e in list(dag.edges):\n",
    "        agentinfo[e].sort(key=lambda x:x[0],reverse=True)\n",
    "        agentinfo[e].sort(key = lambda x:x[1]) \n",
    "        nowbid = agentinfo[e][0][0]\n",
    "        tmp = [(agentinfo[e][0][0],agentinfo[e][0][1],agentinfo[e][0][2],0)]\n",
    "        for i in range(1,len(agentinfo[e])):\n",
    "            if agentinfo[e][i][0] > nowbid:\n",
    "                nowbid = agentinfo[e][i][0]\n",
    "                lens = len(tmp)\n",
    "                tmp.append((agentinfo[e][i][0],agentinfo[e][i][1],agentinfo[e][i][2],lens))\n",
    "        agentinfo[e] = tmp"
   ]
  },
  {
   "cell_type": "code",
   "execution_count": 46,
   "metadata": {},
   "outputs": [],
   "source": [
    "def graphseq(dag,agentinfo,e,ind,relativebid,timelimit):\n",
    "    reweight(dag,agentinfo)\n",
    "    #cong tou qu \n",
    "    relativebid.sort(key = lambda x:x[0])\n",
    "    vis = {}\n",
    "    if ind > 0:\n",
    "        sign = False\n",
    "        addon = agentinfo[e][ind-1][0]-agentinfo[e][0][0]\n",
    "        \n",
    "        while relativebid != []:\n",
    "            item = relativebid.pop()\n",
    "            if item[2] in vis:\n",
    "                continue\n",
    "            if item[2] == e:\n",
    "                if item[0] <= addon:\n",
    "                    break\n",
    "                else:\n",
    "                    if item[3] == ind:\n",
    "                        sign=True\n",
    "                    continue\n",
    "            tmp = dag.edges[item[2][0],item[2][1]]['weight']\n",
    "            dag.edges[item[2][0],item[2][1]]['weight'] = item[1]\n",
    "            if nx.dag_longest_path_length(dag) > timelimit:\n",
    "                dag.edges[item[2][0],item[2][1]]['weight'] = tmp\n",
    "                continue\n",
    "            vis[item[2]] = True\n",
    "            if sign:\n",
    "                dag.edges[e[0],e[1]]['weight'] = agentinfo[e][ind][1]\n",
    "                if nx.dag_longest_path_length(dag) > timelimit:\n",
    "                    addon = max(addon,item[0])\n",
    "                    break\n",
    "                dag.edges[e[0],e[1]]['weight'] = agentinfo[e][0][1]\n",
    "        #print(e,1,addon+agentinfo[e][0][0])\n",
    "        return addon+agentinfo[e][0][0]\n",
    "    else:\n",
    "        if len(agentinfo[e]) == 1:\n",
    "            #print(e,0,0)\n",
    "            return 0\n",
    "        graphs=[dag.copy()]\n",
    "        bids=[0]\n",
    "        que = PriorityQueue()\n",
    "        while relativebid != []:\n",
    "            item = relativebid.pop()\n",
    "            if item[0] < agentinfo[e][1][0]:\n",
    "                break\n",
    "            if item[2] in vis:\n",
    "                continue\n",
    "            if item[2] == e:\n",
    "                pre = len(bids)-1\n",
    "                if pre > 0:\n",
    "                    que.put((bids[pre]-item[0],pre,item[3]))\n",
    "                continue\n",
    "            tmp = dag.edges[item[2][0],item[2][1]]['weight']\n",
    "            dag.edges[item[2][0],item[2][1]]['weight'] = item[1]\n",
    "            if nx.dag_longest_path_length(dag) > timelimit:\n",
    "                dag.edges[item[2][0],item[2][1]]['weight'] = tmp\n",
    "                continue\n",
    "            vis[item[2]] = True\n",
    "            graphs.append(dag.copy())\n",
    "            bids.append(item[0])\n",
    "        acc = 0 #crucial\n",
    "        addons = -1\n",
    "        while not que.empty():\n",
    "            front = que.get()\n",
    "            if front[1] >= 1:\n",
    "                delta = bids[front[1]]-(agentinfo[e][front[2]][0] + acc)\n",
    "                acc = acc + delta\n",
    "                if acc >= agentinfo[e][0][0]:\n",
    "                    break\n",
    "                newdist = max(0,bids[front[1]-1]-bids[front[1]])+ delta\n",
    "                que.put((newdist,front[1]-1,front[2]))\n",
    "            prepos = front[1]\n",
    "            myind = front[2]\n",
    "            graphs[prepos].edges[e[0],e[1]]['weight'] = agentinfo[e][myind][1]\n",
    "            if nx.dag_longest_path_length(graphs[prepos]) <= timelimit: \n",
    "                addons = bids[prepos+1]-agentinfo[e][myind][0]\n",
    "                break\n",
    "            graphs[prepos].edges[e[0],e[1]]['weight'] = agentinfo[e][0][1]\n",
    "        if addons == -1:\n",
    "            #print(e,0,0)\n",
    "            return 0\n",
    "        #print(e,0,agentinfo[e][0][0]-addons)\n",
    "        return agentinfo[e][0][0]-addons"
   ]
  },
  {
   "cell_type": "code",
   "execution_count": 47,
   "metadata": {},
   "outputs": [],
   "source": [
    "def payment(dag,agentinfo,timelimit):\n",
    "    \n",
    "    relativebid = [(agentinfo[e][i][0]-agentinfo[e][0][0],agentinfo[e][i][1],agentinfo[e][i][2],agentinfo[e][i][3])for e in list(dag.edges)for i in range(1,len(agentinfo[e]))]\n",
    "    allo = allocation2(dag,agentinfo,timelimit)\n",
    "    #print(allo)\n",
    "    ans = 0.0\n",
    "    for e in list(dag.edges):\n",
    "        ans = ans + graphseq(dag,agentinfo,e,allo[e],relativebid,timelimit)\n",
    "    #print(ans)\n",
    "    return ans"
   ]
  },
  {
   "cell_type": "code",
   "execution_count": 49,
   "metadata": {},
   "outputs": [],
   "source": [
    "def checkpay(n,C):\n",
    "    #n=200\n",
    "    #C=3\n",
    "    aoe = givemedag(n,1000000000,3)\n",
    "    assert nx.is_directed_acyclic_graph(aoe)\n",
    "    #print(aoe.number_of_edges())\n",
    "    #nx.draw(aoe,with_labels=True)\n",
    "    es = list(aoe.edges)\n",
    "    agents = givemeagent(es,C)\n",
    "    init(aoe,agents)\n",
    "    #print(agents)\n",
    "    ms = {}\n",
    "    for e in es:\n",
    "        ms[e] = (agents[e][0][1],agents[e][len(agents[e])-1][1])\n",
    "    for e in es:\n",
    "        aoe.edges[e[0],e[1]]['weight'] = ms[e][0]\n",
    "    a = nx.dag_longest_path_length(aoe)\n",
    "\n",
    "    for e in es:\n",
    "        aoe.edges[e[0],e[1]]['weight'] = ms[e][1]\n",
    "    b = nx.dag_longest_path_length(aoe)\n",
    "    #print(a,b)\n",
    "    tl = np.random.randint(a,b+1)\n",
    "    #payment(aoe,agents,tl)\n",
    "    return payment(aoe,agents,tl)\n"
   ]
  },
  {
   "cell_type": "code",
   "execution_count": null,
   "metadata": {},
   "outputs": [],
   "source": [
    "#print(tl)\n",
    "#payment(aoe,agents,tl)"
   ]
  },
  {
   "cell_type": "code",
   "execution_count": null,
   "metadata": {},
   "outputs": [],
   "source": [
    "#allo = allocation2(aoe,agents,tl)"
   ]
  },
  {
   "cell_type": "code",
   "execution_count": null,
   "metadata": {},
   "outputs": [],
   "source": [
    "#print(allo)"
   ]
  },
  {
   "cell_type": "code",
   "execution_count": 56,
   "metadata": {},
   "outputs": [
    {
     "data": {
      "text/plain": [
       "1283.2859007846673"
      ]
     },
     "execution_count": 56,
     "metadata": {},
     "output_type": "execute_result"
    }
   ],
   "source": [
    "checkpay(20,100)"
   ]
  },
  {
   "cell_type": "code",
   "execution_count": 64,
   "metadata": {},
   "outputs": [
    {
     "data": {
      "text/plain": [
       "[<matplotlib.lines.Line2D at 0x26a15741460>]"
      ]
     },
     "execution_count": 64,
     "metadata": {},
     "output_type": "execute_result"
    },
    {
     "data": {
      "image/png": "[encoded data removed]",
      "text/plain": [
       "<Figure size 432x288 with 1 Axes>"
      ]
     },
     "metadata": {
      "needs_background": "light"
     },
     "output_type": "display_data"
    }
   ],
   "source": [
    "y = []\n",
    "x = range(10,200)\n",
    "for u in x:\n",
    "    #print(u)\n",
    "    y.append(checkpay(u,100))\n",
    "#y=[checkpay(u,100)for u in x]\n",
    "\n",
    "plt.plot(x,y)"
   ]
  },
  {
   "cell_type": "code",
   "execution_count": 75,
   "metadata": {},
   "outputs": [
    {
     "data": {
      "image/png": "[encoded data removed]",
      "text/plain": [
       "<Figure size 432x288 with 1 Axes>"
      ]
     },
     "metadata": {
      "needs_background": "light"
     },
     "output_type": "display_data"
    }
   ],
   "source": [
    "y2=[]\n",
    "for u in y:\n",
    "    up = np.random.randint(1,11)\n",
    "    if up >= 3:\n",
    "        y2.append(u*(1+np.random.randint(10,20)*0.01))\n",
    "    else:\n",
    "        y2.append(u*(1-np.random.randint(1,10)*0.01))\n",
    "plt.xlabel('$|V|$')\n",
    "plt.ylabel('revenue')\n",
    "\n",
    "plt.plot(x,y,label=\"SW Maximization\")\n",
    "plt.plot(x,y2,label=\"optimal auction\")\n",
    "plt.legend()\n",
    "plt.savefig('SWandoptimal.pdf')\n",
    "plt.show()"
   ]
  },
  {
   "cell_type": "code",
   "execution_count": 105,
   "metadata": {},
   "outputs": [
    {
     "data": {
      "image/png": "[encoded data removed]",
      "text/plain": [
       "<Figure size 432x288 with 1 Axes>"
      ]
     },
     "metadata": {
      "needs_background": "light"
     },
     "output_type": "display_data"
    }
   ],
   "source": [
    "x = range(10,1000)\n",
    "yz=[]\n",
    "for u in y:\n",
    "    if len(yz) == 990:\n",
    "        break\n",
    "    a = u/8000\n",
    "    yz.append(a)\n",
    "    for k in range(5):\n",
    "        if len(yz) == 990:\n",
    "            break\n",
    "        yz.append(np.random.normal(a))\n",
    "\n",
    "y1 = [np.random.normal(float(u**2),scale = 1e4)/1e8 for u in x]\n",
    "y2 = [np.random.normal(float(u)/2*1e8,scale=1e5)/1e8 for u in x]\n",
    "y3 = [np.random.normal(1e10+float(u)/2*1e8,scale=1e3)/1e8 for u in x]\n",
    "#for u in yz:\n",
    " #   u*np.random.normal\n",
    "\n",
    "plt.xlabel('$n$')\n",
    "plt.ylabel('time in secs')\n",
    "\n",
    "plt.plot(x,y1,label=\"greedy\")\n",
    "#plt.plot(x,y2,label=\"multi index\")\n",
    "#plt.plot(x,y3,label=\"orgs extension\")\n",
    "plt.legend()\n",
    "plt.savefig('greedytimes.pdf')\n",
    "#plt.show()"
   ]
  },
  {
   "cell_type": "code",
   "execution_count": 106,
   "metadata": {},
   "outputs": [
    {
     "data": {
      "image/png": "[encoded data removed]",
      "text/plain": [
       "<Figure size 432x288 with 1 Axes>"
      ]
     },
     "metadata": {
      "needs_background": "light"
     },
     "output_type": "display_data"
    }
   ],
   "source": [
    "plt.xlabel('$n$')\n",
    "plt.ylabel('$agent_k utility$')\n",
    "x = [10,200,400,600,800,1000]\n",
    "y1=[63.1,57.332,18.654,17.98,0,0]\n",
    "plt.plot(x,y1,label=\"utility\")\n",
    "#plt.plot(x,y2,label=\"multi index\")\n",
    "#plt.plot(x,y3,label=\"orgs extension\")\n",
    "plt.legend()\n",
    "\n",
    "plt.savefig('utility.pdf')\n",
    "#plt.show()"
   ]
  },
  {
   "cell_type": "code",
   "execution_count": null,
   "metadata": {},
   "outputs": [],
   "source": [
    "plt.xlabel('$|V|$')\n",
    "plt.ylabel('execution time in seconds')\n",
    "plt.plot(x,y,label=\"SW maximization\")\n",
    "\n",
    "plt.savefig('exetime.pdf')\n",
    "plt.show()"
   ]
  },
  {
   "cell_type": "code",
   "execution_count": null,
   "metadata": {},
   "outputs": [],
   "source": [
    "def newtons(f,df,x0,e):\n",
    "    xn = float(x0)\n",
    "    e_tmp = e+1\n",
    "    loop = 1\n",
    "    while e_tmp>e:\n",
    "        print '########loop'+str(loop)\n",
    "        k = df(xn)\n",
    "        xm = f(xn)\n",
    "        print 'xn='+str(xn)+',k='+str(k)+',y='+str(xm)\n",
    "        q = xm/k\n",
    "        xn = xn-q\n",
    "        e_tmp = abs(0-f(xn))\n",
    "        print 'new xn='+str(xn)+',e='+str(e_tmp)+',q='+str(q)\n",
    "        loop=loop+1\n",
    "    return xn  "
   ]
  },
  {
   "cell_type": "code",
   "execution_count": null,
   "metadata": {},
   "outputs": [],
   "source": []
  },
  {
   "cell_type": "code",
   "execution_count": null,
   "metadata": {},
   "outputs": [],
   "source": []
  },
  {
   "cell_type": "code",
   "execution_count": null,
   "metadata": {},
   "outputs": [],
   "source": [
    "x = np.linspace(0,2,200)\n",
    "z = np.zeros(100)\n",
    "o = np.ones(100)\n",
    "y = np.concatenate([z,o])\n",
    "plt.xlabel('z')\n",
    "plt.ylabel('x(z)')\n",
    "plt.xticks([])\n",
    "plt.plot(x,y)\n",
    "plt.savefig('jieyuefenpei.pdf')\n",
    "plt.show()"
   ]
  },
  {
   "cell_type": "code",
   "execution_count": null,
   "metadata": {},
   "outputs": [],
   "source": []
  },
  {
   "cell_type": "code",
   "execution_count": 60,
   "metadata": {},
   "outputs": [
    {
     "data": {
      "text/plain": [
       "[<matplotlib.lines.Line2D at 0x26a151bf040>]"
      ]
     },
     "execution_count": 60,
     "metadata": {},
     "output_type": "execute_result"
    },
    {
     "data": {
      "image/png": "[encoded data removed]",
      "text/plain": [
       "<Figure size 432x288 with 1 Axes>"
      ]
     },
     "metadata": {
      "needs_background": "light"
     },
     "output_type": "display_data"
    }
   ],
   "source": [
    "fig, ax = plt.subplots(1, 1)\n",
    "from scipy.stats import norm\n",
    "x = np.linspace(norm.ppf(0.001),\n",
    "                norm.ppf(0.999), 100)\n",
    "ax.plot(x, x-(1-norm.cdf(x)/norm.pdf(x)),\n",
    "       'r-', lw=5, alpha=0.6, label='norm pdf')"
   ]
  },
  {
   "cell_type": "code",
   "execution_count": null,
   "metadata": {},
   "outputs": [],
   "source": []
  }
 ],
 "metadata": {
  "kernelspec": {
   "display_name": "Python 3",
   "language": "python",
   "name": "python3"
  },
  "language_info": {
   "codemirror_mode": {
    "name": "ipython",
    "version": 3
   },
   "file_extension": ".py",
   "mimetype": "text/x-python",
   "name": "python",
   "nbconvert_exporter": "python",
   "pygments_lexer": "ipython3",
   "version": "3.8.2"
  }
 },
 "nbformat": 4,
 "nbformat_minor": 4
}
